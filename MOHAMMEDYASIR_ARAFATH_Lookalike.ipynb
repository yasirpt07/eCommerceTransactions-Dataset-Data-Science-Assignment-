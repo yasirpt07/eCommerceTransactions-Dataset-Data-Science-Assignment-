{
 "cells": [
  {
   "cell_type": "code",
   "execution_count": 13,
   "id": "97f6fe0a-436e-42d0-8186-a92c4cdb282f",
   "metadata": {},
   "outputs": [
    {
     "name": "stdout",
     "output_type": "stream",
     "text": [
      "  CustomerID                                         Lookalikes\n",
      "0      C0001  [{'CustomerID': 'C0137', 'Score': 0.98}, {'Cus...\n",
      "1      C0002  [{'CustomerID': 'C0088', 'Score': 0.99}, {'Cus...\n",
      "2      C0003  [{'CustomerID': 'C0190', 'Score': 0.98}, {'Cus...\n",
      "3      C0004  [{'CustomerID': 'C0165', 'Score': 0.98}, {'Cus...\n",
      "4      C0005  [{'CustomerID': 'C0128', 'Score': 1.0}, {'Cust...\n"
     ]
    }
   ],
   "source": [
    "# Importing necessary libraries\n",
    "import pandas as pd\n",
    "from sklearn.metrics.pairwise import cosine_similarity\n",
    "from sklearn.preprocessing import StandardScaler\n",
    "\n",
    "# Load the datasets\n",
    "customers = pd.read_csv(\"D:/Practicals/Customers.csv\")\n",
    "products = pd.read_csv(\"D:/Practicals/Products.csv\")\n",
    "transactions = pd.read_csv(\"D:/Practicals/Transactions.csv\")\n",
    "\n",
    "# Merge datasets for analysis\n",
    "merged_data = transactions.merge(customers, on=\"CustomerID\", how=\"left\").merge(products, on=\"ProductID\", how=\"left\")\n",
    "\n",
    "# Aggregate transaction data to create customer profiles\n",
    "customer_profiles = merged_data.groupby(\"CustomerID\").agg({\n",
    "    \"Quantity\": \"sum\",           # Total quantity purchased\n",
    "    \"TotalValue\": \"sum\",         # Total value of transactions\n",
    "    \"Price_x\": \"mean\",           # Average transaction price\n",
    "    \"Region\": \"first\"            # Customer's region\n",
    "}).reset_index()\n",
    "\n",
    "# Encode categorical data (e.g., Region) using one-hot encoding\n",
    "customer_profiles = pd.get_dummies(customer_profiles, columns=[\"Region\"], drop_first=True)\n",
    "\n",
    "# Standardize the numerical data\n",
    "scaler = StandardScaler()\n",
    "numerical_features = [\"Quantity\", \"TotalValue\", \"Price_x\"]  # Numerical columns to scale\n",
    "customer_profiles[numerical_features] = scaler.fit_transform(customer_profiles[numerical_features])\n",
    "\n",
    "# Compute cosine similarity between all customers\n",
    "customer_similarity = cosine_similarity(customer_profiles.drop(\"CustomerID\", axis=1))\n",
    "\n",
    "# Create a lookalike recommendation for the first 20 customers\n",
    "lookalike_results = {}\n",
    "customer_ids = customer_profiles[\"CustomerID\"]\n",
    "for i, customer_id in enumerate(customer_ids[:20]):\n",
    "    similarity_scores = list(enumerate(customer_similarity[i]))\n",
    "    # Skip self-match and get the top 3 most similar customers\n",
    "    similar_customers = sorted(similarity_scores, key=lambda x: x[1], reverse=True)[1:4]\n",
    "    lookalike_results[customer_id] = [\n",
    "        {\"CustomerID\": customer_ids.iloc[sim[0]], \"Score\": round(sim[1], 2)} for sim in similar_customers\n",
    "    ]\n",
    "\n",
    "# Save the lookalike recommendations to a CSV file\n",
    "lookalike_df = pd.DataFrame([\n",
    "    {\"CustomerID\": cust_id, \"Lookalikes\": lookalikes} \n",
    "    for cust_id, lookalikes in lookalike_results.items()\n",
    "])\n",
    "lookalike_df.to_csv(\"D:/Practicals/Lookalike.csv\", index=False)\n",
    "\n",
    "# Print the results\n",
    "print(lookalike_df.head())\n",
    "\n"
   ]
  },
  {
   "cell_type": "code",
   "execution_count": null,
   "id": "d000de9b-c77b-43a1-9db3-afb250b6f411",
   "metadata": {},
   "outputs": [],
   "source": []
  }
 ],
 "metadata": {
  "kernelspec": {
   "display_name": "Python 3 (ipykernel)",
   "language": "python",
   "name": "python3"
  },
  "language_info": {
   "codemirror_mode": {
    "name": "ipython",
    "version": 3
   },
   "file_extension": ".py",
   "mimetype": "text/x-python",
   "name": "python",
   "nbconvert_exporter": "python",
   "pygments_lexer": "ipython3",
   "version": "3.12.7"
  }
 },
 "nbformat": 4,
 "nbformat_minor": 5
}
